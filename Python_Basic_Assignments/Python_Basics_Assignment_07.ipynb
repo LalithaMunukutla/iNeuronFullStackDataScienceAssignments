{
 "cells": [
  {
   "cell_type": "markdown",
   "metadata": {},
   "source": [
    "# Python_Basics_Assignment_07"
   ]
  },
  {
   "cell_type": "markdown",
   "metadata": {},
   "source": [
    "# 1. What is the name of the feature responsible for generating Regex objects?"
   ]
  },
  {
   "cell_type": "markdown",
   "metadata": {},
   "source": [
    "re.compile() generates Regex objects"
   ]
  },
  {
   "cell_type": "code",
   "execution_count": 6,
   "metadata": {},
   "outputs": [
    {
     "name": "stdout",
     "output_type": "stream",
     "text": [
      "<class 're.Pattern'>\n"
     ]
    }
   ],
   "source": [
    "import re\n",
    "x=re.compile('xxxx')\n",
    "print(type(x))"
   ]
  },
  {
   "cell_type": "markdown",
   "metadata": {},
   "source": [
    "# 2. Why do raw strings often appear in Regex objects?"
   ]
  },
  {
   "cell_type": "markdown",
   "metadata": {},
   "source": [
    "Raw strings are used so that special characters (backslash characters) need not have to be escaped."
   ]
  },
  {
   "cell_type": "code",
   "execution_count": 8,
   "metadata": {},
   "outputs": [
    {
     "name": "stdout",
     "output_type": "stream",
     "text": [
      "sducwudh\\\n",
      "sducwudh\\\\\n"
     ]
    }
   ],
   "source": [
    "print('sducwudh\\\\')\n",
    "print(r'sducwudh\\\\')"
   ]
  },
  {
   "cell_type": "markdown",
   "metadata": {},
   "source": [
    "# 3. What is the return value of the search() method?"
   ]
  },
  {
   "cell_type": "markdown",
   "metadata": {},
   "source": [
    "re.search(pattern,string,flags=0)\n",
    "Returns a match object if the pattern is found in the string else returns None "
   ]
  },
  {
   "cell_type": "code",
   "execution_count": 10,
   "metadata": {},
   "outputs": [
    {
     "name": "stdout",
     "output_type": "stream",
     "text": [
      "<re.Match object; span=(4, 7), match='foo'>\n",
      "None\n"
     ]
    }
   ],
   "source": [
    "import re\n",
    "print(re.search('foo','dsfwfoo',flags=0))\n",
    "print(re.search('foo','wjydfuwj',flags=0))"
   ]
  },
  {
   "cell_type": "markdown",
   "metadata": {},
   "source": [
    "# 4. From a Match item, how do you get the actual strings that match the pattern?"
   ]
  },
  {
   "cell_type": "markdown",
   "metadata": {},
   "source": [
    "For Matched items, group() methods returns actual strings that match the pattern"
   ]
  },
  {
   "cell_type": "code",
   "execution_count": 15,
   "metadata": {},
   "outputs": [
    {
     "name": "stdout",
     "output_type": "stream",
     "text": [
      "Foo\n"
     ]
    }
   ],
   "source": [
    "import re\n",
    "x=re.search('foo','enhdgwFoo',flags=re.IGNORECASE)\n",
    "print(x.group())"
   ]
  },
  {
   "cell_type": "markdown",
   "metadata": {},
   "source": [
    "# 5. In the regex which created from the r&#39;(\\d\\d\\d)-(\\d\\d\\d-\\d\\d\\d\\d)&#39;, what does group zero cover? Group 2? Group 1?"
   ]
  },
  {
   "cell_type": "markdown",
   "metadata": {},
   "source": [
    "In r'(\\d\\d\\d)-(\\d\\d\\d-\\d\\d\\d\\d)'\n",
    "\n",
    "the zero group covers the entire pattern\n",
    "\n",
    "the first group covers (\\d\\d\\d)\n",
    "\n",
    "the second group covers (\\d\\d\\d-\\d\\d\\d\\d)"
   ]
  },
  {
   "cell_type": "code",
   "execution_count": 1,
   "metadata": {},
   "outputs": [
    {
     "name": "stdout",
     "output_type": "stream",
     "text": [
      "('123', '456-7890')\n",
      "123-456-7890\n",
      "123\n",
      "456-7890\n"
     ]
    }
   ],
   "source": [
    "import re\n",
    "x=re.compile(r'(\\d\\d\\d)-(\\d\\d\\d-\\d\\d\\d\\d)')\n",
    "y=x.search('Number is 123-456-7890')\n",
    "print(y.groups())\n",
    "print(y.group())\n",
    "print(y.group(1))\n",
    "print(y.group(2))"
   ]
  },
  {
   "cell_type": "markdown",
   "metadata": {},
   "source": [
    "# 6. In standard expression syntax, parentheses and intervals have distinct meanings. How can you tell a regex that you want it to fit real parentheses and periods?"
   ]
  },
  {
   "cell_type": "markdown",
   "metadata": {},
   "source": [
    "Periods and parentheses can be escaped with a backslash: \\\\, \\\\ (, and \\\\ )."
   ]
  },
  {
   "cell_type": "code",
   "execution_count": 2,
   "metadata": {},
   "outputs": [
    {
     "name": "stdout",
     "output_type": "stream",
     "text": [
      "('(123)', '456-7890')\n",
      "(123) 456-7890\n",
      "(123)\n",
      "456-7890\n"
     ]
    }
   ],
   "source": [
    "import re\n",
    "x=re.compile(r'(\\(\\d\\d\\d\\)) (\\d\\d\\d-\\d\\d\\d\\d)')\n",
    "y=x.search('Number is (123) 456-7890')\n",
    "print(y.groups())\n",
    "print(y.group())\n",
    "print(y.group(1))\n",
    "print(y.group(2))"
   ]
  },
  {
   "cell_type": "markdown",
   "metadata": {},
   "source": [
    "# 7. The findall() method returns a string list or a list of string tuples. What causes it to return one of the two options?"
   ]
  },
  {
   "cell_type": "markdown",
   "metadata": {},
   "source": [
    "The result depends on the no.of capturing groups in the pattern. \n",
    "\n",
    "If there are no groups then it will return a string list else if there are more than one group present then it will return a list of string tuples matching the groups"
   ]
  },
  {
   "cell_type": "code",
   "execution_count": 3,
   "metadata": {},
   "outputs": [
    {
     "name": "stdout",
     "output_type": "stream",
     "text": [
      "[('(123)', '456-7890')]\n",
      "['123-456-7890']\n"
     ]
    }
   ],
   "source": [
    "import re\n",
    "x1=re.compile(r'(\\(\\d\\d\\d\\)) (\\d\\d\\d-\\d\\d\\d\\d)')\n",
    "y1=x1.findall('Number is (123) 456-7890')\n",
    "print(y1)\n",
    "\n",
    "x2=re.compile(r'\\d\\d\\d-\\d\\d\\d-\\d\\d\\d\\d')\n",
    "y2=x2.findall('Number is 123-456-7890')\n",
    "print(y2)"
   ]
  },
  {
   "cell_type": "markdown",
   "metadata": {},
   "source": [
    "# 8. In standard expressions, what does the | character mean?"
   ]
  },
  {
   "cell_type": "markdown",
   "metadata": {},
   "source": [
    "It means an 'OR' operator"
   ]
  },
  {
   "cell_type": "markdown",
   "metadata": {},
   "source": [
    "# 9. In regular expressions, what does the ? character stand for?"
   ]
  },
  {
   "cell_type": "markdown",
   "metadata": {},
   "source": [
    "The ? character represents either zero or one match of the preceding group."
   ]
  },
  {
   "cell_type": "code",
   "execution_count": 4,
   "metadata": {},
   "outputs": [
    {
     "name": "stdout",
     "output_type": "stream",
     "text": [
      "<re.Match object; span=(0, 8), match='456-7890'>\n",
      "<re.Match object; span=(0, 11), match='456123-7890'>\n"
     ]
    }
   ],
   "source": [
    "import re\n",
    "x1=re.search(r'456(123)?-7890','456-7890')\n",
    "print(x1)\n",
    "\n",
    "x2=re.search(r'456(123)?-7890','456123-7890')\n",
    "print(x2)"
   ]
  },
  {
   "cell_type": "markdown",
   "metadata": {},
   "source": [
    "# 10.In regular expressions, what is the difference between the + and * characters?"
   ]
  },
  {
   "cell_type": "markdown",
   "metadata": {},
   "source": [
    "'+' represents one or more occurences of the preceding group\n",
    "\n",
    "'*' represents zero or more occurences of the preceding group"
   ]
  },
  {
   "cell_type": "code",
   "execution_count": 5,
   "metadata": {},
   "outputs": [
    {
     "name": "stdout",
     "output_type": "stream",
     "text": [
      "None\n",
      "<re.Match object; span=(0, 8), match='456-7890'>\n"
     ]
    }
   ],
   "source": [
    "import re\n",
    "x1=re.search(r'456(123)+-7890','456-7890')\n",
    "print(x1)\n",
    "\n",
    "x2=re.search(r'456(123)*-7890','456-7890')\n",
    "print(x2)"
   ]
  },
  {
   "cell_type": "markdown",
   "metadata": {},
   "source": [
    "# 11. What is the difference between {4} and {4,5} in regular expression?"
   ]
  },
  {
   "cell_type": "markdown",
   "metadata": {},
   "source": [
    "{4} in a regular expression means that the preceding group must repeat for 4 times, while {4,5} in a regular expression means that the preceding group must repeat for minimum 4 times and maximum 5 times inclusively."
   ]
  },
  {
   "cell_type": "code",
   "execution_count": 6,
   "metadata": {},
   "outputs": [
    {
     "name": "stdout",
     "output_type": "stream",
     "text": [
      "<re.Match object; span=(0, 6), match='HAHAHA'>\n",
      "None\n"
     ]
    }
   ],
   "source": [
    "import re\n",
    "x1=re.compile(r'(HA){3}')\n",
    "y1=x1.search('HAHAHA')\n",
    "print(y1)\n",
    "\n",
    "x2=re.compile(r'(HA){4,5}')\n",
    "y2=x2.search('HAHAHA')\n",
    "print(y2)"
   ]
  },
  {
   "cell_type": "markdown",
   "metadata": {},
   "source": [
    "# 12. What do you mean by the \\d, \\w, and \\s shorthand character classes signify in regular expressions?"
   ]
  },
  {
   "cell_type": "markdown",
   "metadata": {},
   "source": [
    "\\d - matches decimal digit characters [0-9]\n",
    "\n",
    "\\w - matches word characters [a-z,A-Z,0-9]\n",
    "\n",
    "\\s - matches whitespace characters, includes space, tabs, newline"
   ]
  },
  {
   "cell_type": "markdown",
   "metadata": {},
   "source": [
    "# 13. What do means by \\D, \\W, and \\S shorthand character classes signify in regular expressions? "
   ]
  },
  {
   "cell_type": "markdown",
   "metadata": {},
   "source": [
    "\\D - matches non-decimal digit characters [0-9]\n",
    "\n",
    "\\W - matches non-word characters [a-z,A-Z,0-9]\n",
    "\n",
    "\\S - matches non-whitespace characters, includes space, tabs, newline"
   ]
  },
  {
   "cell_type": "markdown",
   "metadata": {},
   "source": [
    "# 14. What is the difference between . * ? and . * "
   ]
  },
  {
   "cell_type": "markdown",
   "metadata": {},
   "source": [
    ".*? is a non-greedy mode, which returns the shortest string that meets the condition\n",
    "\n",
    ".* is a greedy mode, which returns the longest string that meets the condition"
   ]
  },
  {
   "cell_type": "markdown",
   "metadata": {},
   "source": [
    "# 15. What is the syntax for matching both numbers and lowercase letters with a character class?"
   ]
  },
  {
   "cell_type": "markdown",
   "metadata": {},
   "source": [
    "The Synatax is Either [a-z0-9] or [0-9a-z]"
   ]
  },
  {
   "cell_type": "markdown",
   "metadata": {},
   "source": [
    "# 16. What is the procedure for making a normal expression in regax case insensitive?"
   ]
  },
  {
   "cell_type": "markdown",
   "metadata": {},
   "source": [
    "By using re.IGNORECASE in flag"
   ]
  },
  {
   "cell_type": "markdown",
   "metadata": {},
   "source": [
    "# 17. What does the . character normally match? What does it match if re.DOTALL is passed as 2nd argument in re.compile()?"
   ]
  },
  {
   "cell_type": "markdown",
   "metadata": {},
   "source": [
    "The . character matches everything in the input except newline, if re.DOTALL is used in flag then evrything in the input will be matched including the newline"
   ]
  },
  {
   "cell_type": "markdown",
   "metadata": {},
   "source": [
    "# 18. If numReg = re.compile(r&#39;\\d+&#39;), what will numRegex.sub(&#39;X&#39;, &#39;11 drummers, 10 pipers, five rings, 4 hen&#39;) return?"
   ]
  },
  {
   "cell_type": "code",
   "execution_count": 8,
   "metadata": {},
   "outputs": [
    {
     "data": {
      "text/plain": [
       "'X drummers, X pipers, five rings, X hen'"
      ]
     },
     "execution_count": 8,
     "metadata": {},
     "output_type": "execute_result"
    }
   ],
   "source": [
    "import re\n",
    "numReg = re.compile(r'\\d+')\n",
    "numReg.sub('X', '11 drummers, 10 pipers, five rings, 4 hen')"
   ]
  },
  {
   "cell_type": "markdown",
   "metadata": {},
   "source": [
    "# 19. What does passing re.VERBOSE as the 2nd argument to re.compile() allow to do?"
   ]
  },
  {
   "cell_type": "markdown",
   "metadata": {},
   "source": [
    "re.VERBOSE will allow to add whitespace and comments to string passed to re.compile()."
   ]
  },
  {
   "cell_type": "markdown",
   "metadata": {},
   "source": [
    "# 20. How would you write a regex that match a number with comma for every three digits? It must match the given following:\n",
    "# &#39;42&#39;\n",
    "# &#39;1,234&#39;\n",
    "# &#39;6,368,745&#39;\n",
    "\n",
    "# but not the following:\n",
    "# &#39;12,34,567&#39; (which has only two digits between the commas)\n",
    "# &#39;1234&#39; (which lacks commas)"
   ]
  },
  {
   "cell_type": "code",
   "execution_count": 13,
   "metadata": {},
   "outputs": [
    {
     "name": "stdout",
     "output_type": "stream",
     "text": [
      "<re.Match object; span=(0, 2), match='42'>\n",
      "<re.Match object; span=(0, 5), match='1,234'>\n",
      "<re.Match object; span=(0, 9), match='6,368,745'>\n",
      "None\n",
      "None\n"
     ]
    }
   ],
   "source": [
    "import re\n",
    "x=re.compile(r'^\\d{1,3}(,\\d{3})*$')\n",
    "for i in ['42', '1,234', '6,368,745', '12,34,567', '1234']:\n",
    "    print(x.search(i))             "
   ]
  },
  {
   "cell_type": "markdown",
   "metadata": {},
   "source": [
    "# 21. How would you write a regex that matches the full name of someone whose last name is Watanabe? You can assume that the first name that comes before it will always be one word that begins with a capital letter. The regex must match the following:\n",
    "# &#39;Haruto Watanabe&#39;\n",
    "# &#39;Alice Watanabe&#39;\n",
    "# &#39;RoboCop Watanabe&#39;\n",
    "# but not the following:\n",
    "# &#39;haruto Watanabe&#39; (where the first name is not capitalized)\n",
    "# &#39;Mr. Watanabe&#39; (where the preceding word has a nonletter character)\n",
    "# &#39;Watanabe&#39; (which has no first name)\n",
    "# &#39;Haruto watanabe&#39; (where Watanabe is not capitalized)"
   ]
  },
  {
   "cell_type": "code",
   "execution_count": 16,
   "metadata": {},
   "outputs": [
    {
     "name": "stdout",
     "output_type": "stream",
     "text": [
      "<re.Match object; span=(0, 15), match='Haruto Watanabe'>\n",
      "<re.Match object; span=(0, 14), match='Alice Watanabe'>\n",
      "<re.Match object; span=(4, 16), match='Cop Watanabe'>\n",
      "None\n",
      "None\n",
      "None\n",
      "None\n"
     ]
    }
   ],
   "source": [
    "import re\n",
    "x=re.compile(r'[A-Z]{1}[a-z]*\\sWatanabe')\n",
    "for i in ['Haruto Watanabe', 'Alice Watanabe', 'RoboCop Watanabe', 'haruto Watanabe', 'Mr. Watanabe', 'Watanabe', 'Haruto watanabe']:\n",
    "    print(x.search(i)) "
   ]
  },
  {
   "cell_type": "markdown",
   "metadata": {},
   "source": [
    "# 22. How would you write a regex that matches a sentence where the first word is either Alice, Bob, or Carol; the second word is either eats, pets, or throws; the third word is apples, cats, or baseballs; and the sentence ends with a period? This regex should be case-insensitive. It must match the following:\n",
    "# &#39;Alice eats apples.&#39;\n",
    "# &#39;Bob pets cats.&#39;\n",
    "# &#39;Carol throws baseballs.&#39;\n",
    "# &#39;Alice throws Apples.&#39;\n",
    "# &#39;BOB EATS CATS.&#39;\n",
    "# but not the following:\n",
    "# &#39;RoboCop eats apples.&#39;\n",
    "# &#39;ALICE THROWS FOOTBALLS.&#39;\n",
    "# &#39;Carol eats 7 cats.&#39;"
   ]
  },
  {
   "cell_type": "code",
   "execution_count": 19,
   "metadata": {},
   "outputs": [
    {
     "name": "stdout",
     "output_type": "stream",
     "text": [
      "<re.Match object; span=(0, 18), match='Alice eats apples.'>\n",
      "<re.Match object; span=(0, 14), match='Bob pets cats.'>\n",
      "<re.Match object; span=(0, 23), match='Carol throws baseballs.'>\n",
      "<re.Match object; span=(0, 20), match='Alice throws Apples.'>\n",
      "<re.Match object; span=(0, 14), match='BOB EATS CATS.'>\n",
      "None\n",
      "None\n",
      "None\n"
     ]
    }
   ],
   "source": [
    "import re\n",
    "x=re.compile(r'(Alice|Bob|Carol)\\s(eats|pets|throws)\\s(apples|cats|baseballs)\\.', re.IGNORECASE)\n",
    "for i in ['Alice eats apples.', 'Bob pets cats.', 'Carol throws baseballs.', 'Alice throws Apples.', 'BOB EATS CATS.', 'RoboCop eats apples.', 'ALICE THROWS FOOTBALLS.', 'Carol eats 7 cats.']:\n",
    "    print(x.search(i)) "
   ]
  },
  {
   "cell_type": "code",
   "execution_count": null,
   "metadata": {},
   "outputs": [],
   "source": []
  }
 ],
 "metadata": {
  "kernelspec": {
   "display_name": "Python 3",
   "language": "python",
   "name": "python3"
  },
  "language_info": {
   "codemirror_mode": {
    "name": "ipython",
    "version": 3
   },
   "file_extension": ".py",
   "mimetype": "text/x-python",
   "name": "python",
   "nbconvert_exporter": "python",
   "pygments_lexer": "ipython3",
   "version": "3.8.5"
  }
 },
 "nbformat": 4,
 "nbformat_minor": 4
}
