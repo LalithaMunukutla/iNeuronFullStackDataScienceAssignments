{
 "cells": [
  {
   "cell_type": "markdown",
   "metadata": {},
   "source": [
    "# Python_Basics_Assignment_09"
   ]
  },
  {
   "cell_type": "markdown",
   "metadata": {},
   "source": [
    "# 1. To what does a relative path refer?"
   ]
  },
  {
   "cell_type": "markdown",
   "metadata": {},
   "source": [
    "Relative path refers to the path to some file with respect to PWD (present working directory)\n",
    "\n",
    "File path = PWD + Relative path"
   ]
  },
  {
   "cell_type": "markdown",
   "metadata": {},
   "source": [
    "# 2. What does an absolute path start with your operating system?"
   ]
  },
  {
   "cell_type": "markdown",
   "metadata": {},
   "source": [
    "In windows it starts with C:/\n",
    "\n",
    "In linux, it starts with /"
   ]
  },
  {
   "cell_type": "markdown",
   "metadata": {},
   "source": [
    "# 3. What do the functions os.getcwd() and os.chdir() do?"
   ]
  },
  {
   "cell_type": "markdown",
   "metadata": {},
   "source": [
    "os.getcwd() - It gives the current working directory \n",
    "\n",
    "os.chdir() - This method is used to change the current working directory"
   ]
  },
  {
   "cell_type": "code",
   "execution_count": 2,
   "metadata": {},
   "outputs": [
    {
     "data": {
      "text/plain": [
       "'C:\\\\Users\\\\Lalitha Munukutla\\\\Desktop\\\\iNeuron Full Stack datascience\\\\Assignments\\\\Python_Basic_Assignment'"
      ]
     },
     "execution_count": 2,
     "metadata": {},
     "output_type": "execute_result"
    }
   ],
   "source": [
    "import os\n",
    "os.getcwd()"
   ]
  },
  {
   "cell_type": "code",
   "execution_count": 5,
   "metadata": {},
   "outputs": [],
   "source": [
    "os.chdir('C:\\\\Users\\\\Lalitha Munukutla\\\\Downloads')"
   ]
  },
  {
   "cell_type": "code",
   "execution_count": 6,
   "metadata": {},
   "outputs": [
    {
     "data": {
      "text/plain": [
       "'C:\\\\Users\\\\Lalitha Munukutla\\\\Downloads'"
      ]
     },
     "execution_count": 6,
     "metadata": {},
     "output_type": "execute_result"
    }
   ],
   "source": [
    "os.getcwd()"
   ]
  },
  {
   "cell_type": "markdown",
   "metadata": {},
   "source": [
    "# 4. What are the . and .. folders?"
   ]
  },
  {
   "cell_type": "markdown",
   "metadata": {},
   "source": [
    ". represents the current directory\n",
    "\n",
    ".. represents the parent directory of the current directory\n",
    "\n",
    "i.e., . represents C:\\\\Users\\\\Lalitha Munukutla\\\\Downloads\n",
    "\n",
    "and .. represents C:\\\\Users\\\\Lalitha Munukutla"
   ]
  },
  {
   "cell_type": "markdown",
   "metadata": {},
   "source": [
    "# 5. In C:\\bacon\\eggs\\spam.txt, which part is the dir name, and which part is the base name?"
   ]
  },
  {
   "cell_type": "markdown",
   "metadata": {},
   "source": [
    "Here,\n",
    "\n",
    "dir name is C:\\bacon\\eggs and base name is spam.txt"
   ]
  },
  {
   "cell_type": "code",
   "execution_count": 7,
   "metadata": {},
   "outputs": [
    {
     "name": "stdout",
     "output_type": "stream",
     "text": [
      "C:\\bacon\\eggs\n",
      "spam.txt\n"
     ]
    }
   ],
   "source": [
    "import os\n",
    "path=r'C:\\bacon\\eggs\\spam.txt'\n",
    "print(os.path.dirname(path))\n",
    "print(os.path.basename(path))"
   ]
  },
  {
   "cell_type": "markdown",
   "metadata": {},
   "source": [
    "# 6. What are the three “mode” arguments that can be passed to the open() function?"
   ]
  },
  {
   "cell_type": "markdown",
   "metadata": {},
   "source": [
    "‘r’ – Read Mode: This is the default mode for open(). The file is opened and a pointer is positioned at the beginning of the file’s content.\n",
    "\n",
    "‘w’ – Write Mode: Using this mode will overwrite any existing content in a file. If the given file does not exist, a new one will be created.\n",
    "\n",
    "‘r+’ – Read/Write Mode: Use this mode if you need to simultaneously read and write to a file.\n",
    "\n",
    "‘a’ – Append Mode: With this mode the user can append the data without overwriting any already existing data in the file.\n",
    "\n",
    "‘a+’ – Append and Read Mode: In this mode you can read and append the data without overwriting the original file.\n",
    "\n",
    "‘x’ – Exclusive Creating Mode: This mode is for the sole purpose of creating new files. Use this mode if you know the file to be written doesn’t exist beforehand."
   ]
  },
  {
   "cell_type": "markdown",
   "metadata": {},
   "source": [
    "# 7. What happens if an existing file is opened in write mode?"
   ]
  },
  {
   "cell_type": "markdown",
   "metadata": {},
   "source": [
    "Overwrites the existing content of the file in write mode, and if it doesnt exist a new file will be created"
   ]
  },
  {
   "cell_type": "markdown",
   "metadata": {},
   "source": [
    "# 8. How do you tell the difference between read() and readlines()? "
   ]
  },
  {
   "cell_type": "markdown",
   "metadata": {},
   "source": [
    "The main difference is that read() will read the whole file at once and then print out the first characters that take up as many bytes as you specify in the parenthesis whereas the readline() that will read and print out only the first characters that take up as many bytes as you specify in the parenthesis. You may want to use readline() when you're reading files that are too big for your RAM.\n",
    "\n",
    "The read() would treat each character in the file separately, meaning that the iteration would happen for every character.\n",
    "The readline() function, on the other hand, only reads a single line of the file. This means that if the first line of the file were three lines long, the readline() function would only parse (or iterate/operate) on the first line of the file."
   ]
  },
  {
   "cell_type": "markdown",
   "metadata": {},
   "source": [
    "# 9. What data structure does a shelf value resemble?"
   ]
  },
  {
   "cell_type": "markdown",
   "metadata": {},
   "source": [
    "It resembles a dictionary"
   ]
  },
  {
   "cell_type": "code",
   "execution_count": null,
   "metadata": {},
   "outputs": [],
   "source": []
  }
 ],
 "metadata": {
  "kernelspec": {
   "display_name": "Python 3",
   "language": "python",
   "name": "python3"
  },
  "language_info": {
   "codemirror_mode": {
    "name": "ipython",
    "version": 3
   },
   "file_extension": ".py",
   "mimetype": "text/x-python",
   "name": "python",
   "nbconvert_exporter": "python",
   "pygments_lexer": "ipython3",
   "version": "3.8.5"
  }
 },
 "nbformat": 4,
 "nbformat_minor": 4
}
