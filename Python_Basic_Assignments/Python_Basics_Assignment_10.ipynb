{
 "cells": [
  {
   "cell_type": "markdown",
   "metadata": {},
   "source": [
    "# Python_Basics_Assignment_10"
   ]
  },
  {
   "cell_type": "markdown",
   "metadata": {},
   "source": [
    "# 1. How do you distinguish between shutil.copy() and shutil.copytree()?"
   ]
  },
  {
   "cell_type": "markdown",
   "metadata": {},
   "source": [
    "shutil.copy() method is used to copy the contents of a file from one file to another file/folder, it primary takes two arguments src,dest, src represents the file to be copied where as destination refers to the file/folder to where the src data should be copied, if dest is a folder name the src with exact name will be copied to the dest folder, if its a file then the contents of src will be copied to dest where dest retains it name.\n",
    "\n",
    "shutil.copytree() function is used to copy the entire contents of a folder to other folder. it also takes two arguments src & dest, it copies all the content recursively and stores it in dest. the important catch here is dest must not exist prior to this and it will be created during the copy operation. Permissions and times of directories are copied with shutil.copystat() and individual files are copied using shutil.copy2() by default which can be modified using copy_function attribute."
   ]
  },
  {
   "cell_type": "markdown",
   "metadata": {},
   "source": [
    "# 2. What function is used to rename files??"
   ]
  },
  {
   "cell_type": "markdown",
   "metadata": {},
   "source": [
    "os.rename() function is used to rename files. It takes two arguments: src and dest, src represents the name file/directory which we want to rename, whereas dest represents the new name of the file/directory."
   ]
  },
  {
   "cell_type": "markdown",
   "metadata": {},
   "source": [
    "# 3. What is the difference between the delete functions in the send2trash and shutil modules?"
   ]
  },
  {
   "cell_type": "markdown",
   "metadata": {},
   "source": [
    "send2trash module provides a function called send2trash.send2trash() to delete a file/directory. these methods moves the files/directories to trash folder instead of permanently deleting them. hence if a file/folder is deleted accidentally it can be still recovered from trash folder, if is deleted using the send2trash.send2trash() function. send2trash is not included with python standard libary like os & shutil modules. it needs to be installed explicitly using the command !pip install send2trash\n",
    "\n",
    "Shutil module provides a funciton called as shutil.rmtree() which deletes a directory and all its contents. The other functions with similar functionality are os.remove() -> removes a file, os.rmdir() removes a empty directory. The problem with these functions is once a file is deleted. it will be lost permanently, if a file is deleted accidentally using these methods there is no way we can recover the deleted file"
   ]
  },
  {
   "cell_type": "markdown",
   "metadata": {},
   "source": [
    "# 4.ZipFile objects have a close() method just like File objects’ close() method. What ZipFile method is equivalent to File objects’ open() method?"
   ]
  },
  {
   "cell_type": "markdown",
   "metadata": {},
   "source": [
    "ZipFile module provides a method zipfile.ZipFile() to open zipfiles in read or write mode as\n",
    "\n",
    "zipfile.ZipFile('filename', mode='r')"
   ]
  },
  {
   "cell_type": "markdown",
   "metadata": {},
   "source": [
    "# 5. Create a programme that searches a folder tree for files with a certain file extension (such as .pdf or .jpg). Copy these files from whatever location they are in to a new folder. "
   ]
  },
  {
   "cell_type": "code",
   "execution_count": 28,
   "metadata": {},
   "outputs": [
    {
     "name": "stdout",
     "output_type": "stream",
     "text": [
      "Source directory: C:\\Users\\Lalitha Munukutla\\Desktop\\iNeuron Full Stack datascience\\Assignments\\Python_Basic_Assignment\\Dummy Source\n",
      "\n",
      "Files in the source directory: ['1st.pdf']\n",
      "\n",
      "Files successfully transfered from C:\\Users\\Lalitha Munukutla\\Desktop\\iNeuron Full Stack datascience\\Assignments\\Python_Basic_Assignment\\Dummy Source to C:\\Users\\Lalitha Munukutla\\Desktop\\iNeuron Full Stack datascience\\Assignments\\Python_Basic_Assignment\\Dummy destination\n",
      "\n",
      "Files in the destination directory: ['1st.pdf']\n",
      "\n"
     ]
    }
   ],
   "source": [
    "import os\n",
    "import shutil\n",
    "\n",
    "def search_folder_tree(source, destination, extensions):\n",
    "    source=os.path.abspath(source)\n",
    "    destination=os.path.abspath(destination)\n",
    "    for foldername, subfolder, filenames in os.walk(source):\n",
    "        print('Source directory:', foldername,end='\\n\\n')\n",
    "        print(f'Files in the source directory: {filenames}', end='\\n\\n')\n",
    "        for filename in filenames:\n",
    "            fileName,extension=os.path.splitext(filename)\n",
    "            if extension in extensions:\n",
    "                targetfile=foldername+os.path.sep+fileName+extension\n",
    "                shutil.copy(targetfile,destination)\n",
    "            print(f'Files successfully transfered from {source} to {destination}',end='\\n\\n')\n",
    "    for foldername, subfolder, filenames in os.walk(source):\n",
    "        print(f'Files in the destination directory: {filenames}', end='\\n\\n')\n",
    "\n",
    "extensions = ['.pdf','.jpg','.ipynb']\n",
    "source = 'Dummy Source'\n",
    "destination = 'Dummy destination'\n",
    "search_folder_tree(source, destination, extensions)"
   ]
  }
 ],
 "metadata": {
  "kernelspec": {
   "display_name": "Python 3",
   "language": "python",
   "name": "python3"
  },
  "language_info": {
   "codemirror_mode": {
    "name": "ipython",
    "version": 3
   },
   "file_extension": ".py",
   "mimetype": "text/x-python",
   "name": "python",
   "nbconvert_exporter": "python",
   "pygments_lexer": "ipython3",
   "version": "3.8.5"
  }
 },
 "nbformat": 4,
 "nbformat_minor": 4
}
