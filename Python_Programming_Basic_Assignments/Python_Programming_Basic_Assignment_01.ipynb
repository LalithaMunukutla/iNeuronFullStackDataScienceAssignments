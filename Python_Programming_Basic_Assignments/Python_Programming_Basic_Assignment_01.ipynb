{
 "cells": [
  {
   "cell_type": "markdown",
   "metadata": {},
   "source": [
    "# Python_Programming_Basic_Assignment_01"
   ]
  },
  {
   "cell_type": "markdown",
   "metadata": {},
   "source": [
    "# 1. Write a Python program to print 'Hello Python'"
   ]
  },
  {
   "cell_type": "code",
   "execution_count": 6,
   "metadata": {},
   "outputs": [
    {
     "name": "stdout",
     "output_type": "stream",
     "text": [
      "Hello Python\n"
     ]
    }
   ],
   "source": [
    "print(\"Hello Python\")"
   ]
  },
  {
   "cell_type": "markdown",
   "metadata": {},
   "source": [
    "# 2. Write a Python program to do arithmetical operations addition and division.?"
   ]
  },
  {
   "cell_type": "code",
   "execution_count": 12,
   "metadata": {},
   "outputs": [
    {
     "name": "stdout",
     "output_type": "stream",
     "text": [
      "sum= 30 + 10 = 40\n",
      "d= 30 / 10 = 3.0\n"
     ]
    }
   ],
   "source": [
    "a=30\n",
    "b=10\n",
    "print(\"sum= {} + {} = {}\".format(a,b,a+b))\n",
    "print(\"d= {} / {} = {}\".format(a,b,a/b))"
   ]
  },
  {
   "cell_type": "markdown",
   "metadata": {},
   "source": [
    "# 3. Write a Python program to find the area of a triangle?"
   ]
  },
  {
   "cell_type": "code",
   "execution_count": 9,
   "metadata": {},
   "outputs": [
    {
     "name": "stdout",
     "output_type": "stream",
     "text": [
      "Area of the triangle with sides 3, 4, 5 is 6.0\n"
     ]
    }
   ],
   "source": [
    "import math\n",
    "a=3\n",
    "b=4\n",
    "c=5\n",
    "s=(a+b+c)/2\n",
    "delta=s*(s-a)*(s-b)*(s-c)\n",
    "area=math.sqrt(delta)\n",
    "print(\"Area of the triangle with sides {}, {}, {} is {}\".format(a,b,c,area))"
   ]
  },
  {
   "cell_type": "markdown",
   "metadata": {},
   "source": [
    "# 4. Write a Python program to swap two variables?"
   ]
  },
  {
   "cell_type": "code",
   "execution_count": 10,
   "metadata": {},
   "outputs": [
    {
     "name": "stdout",
     "output_type": "stream",
     "text": [
      "Before swapping the variables: a=10, b=20\n",
      "After swapping the variables: a=20, b=10\n"
     ]
    }
   ],
   "source": [
    "a=10\n",
    "b=20\n",
    "print(\"Before swapping the variables: a={}, b={}\".format(a,b))\n",
    "temp=a\n",
    "a=b\n",
    "b=temp\n",
    "print(\"After swapping the variables: a={}, b={}\".format(a,b))"
   ]
  },
  {
   "cell_type": "markdown",
   "metadata": {},
   "source": [
    "# 5. Write a Python program to generate a random number?"
   ]
  },
  {
   "cell_type": "code",
   "execution_count": 11,
   "metadata": {},
   "outputs": [
    {
     "name": "stdout",
     "output_type": "stream",
     "text": [
      "A random number in the range 0 and 10000 is 7540.\n"
     ]
    }
   ],
   "source": [
    "import random\n",
    "# randint() function in the random module is used to generate a random number. \n",
    "temp=random.randint(0,10000) \n",
    "print(\"A random number in the range 0 and 10000 is {}.\".format(temp))"
   ]
  },
  {
   "cell_type": "code",
   "execution_count": null,
   "metadata": {},
   "outputs": [],
   "source": []
  }
 ],
 "metadata": {
  "kernelspec": {
   "display_name": "Python 3",
   "language": "python",
   "name": "python3"
  },
  "language_info": {
   "codemirror_mode": {
    "name": "ipython",
    "version": 3
   },
   "file_extension": ".py",
   "mimetype": "text/x-python",
   "name": "python",
   "nbconvert_exporter": "python",
   "pygments_lexer": "ipython3",
   "version": "3.8.5"
  }
 },
 "nbformat": 4,
 "nbformat_minor": 4
}
